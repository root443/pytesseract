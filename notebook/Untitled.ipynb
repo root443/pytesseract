{
 "cells": [
  {
   "cell_type": "code",
   "execution_count": 4,
   "metadata": {},
   "outputs": [
    {
     "name": "stdout",
     "output_type": "stream",
     "text": [
      "/home/sandro/Devspace/python/tesseract\n",
      "564.docx\n",
      "582.docx\n",
      "589.docx\n",
      "568.docx\n",
      "565.docx\n",
      "583.docx\n",
      "594.docx\n",
      "592.docx\n",
      "575.docx\n",
      "571.docx\n",
      "572.docx\n",
      "596.docx\n",
      "562.docx\n",
      "561.docx\n",
      "567.docx\n",
      "569.docx\n",
      "580.docx\n",
      "586.docx\n",
      "597.docx\n",
      "584.docx\n",
      "590.docx\n",
      "563.docx\n",
      "593.docx\n",
      "566.docx\n",
      "599.docx\n",
      "598.docx\n",
      "581.docx\n",
      "576.docx\n",
      "600.docx\n",
      "573.docx\n",
      "578.docx\n",
      "587.docx\n",
      "595.docx\n",
      "574.docx\n",
      "591.docx\n",
      "570.docx\n",
      "577.docx\n",
      "585.docx\n",
      "588.docx\n",
      "579.docx\n"
     ]
    }
   ],
   "source": [
    "import os, re\n",
    "from fasita.settings import *\n",
    "from pathlib import Path\n",
    "\n",
    "print(BASE_DIR)\n",
    "imgs = os.listdir(Path(\"/home/sandro/Scaricati/coletti/img/561-600\"))\n",
    "for file in imgs:\n",
    "    print(re.sub(r\"(\\.\\w+)$\", \".docx\", file))\n",
    "\n"
   ]
  },
  {
   "cell_type": "code",
   "execution_count": null,
   "metadata": {},
   "outputs": [],
   "source": []
  }
 ],
 "metadata": {
  "kernelspec": {
   "display_name": "Python 3",
   "language": "python",
   "name": "python3"
  },
  "language_info": {
   "codemirror_mode": {
    "name": "ipython",
    "version": 3
   },
   "file_extension": ".py",
   "mimetype": "text/x-python",
   "name": "python",
   "nbconvert_exporter": "python",
   "pygments_lexer": "ipython3",
   "version": "3.6.7"
  }
 },
 "nbformat": 4,
 "nbformat_minor": 2
}
