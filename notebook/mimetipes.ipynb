{
 "cells": [
  {
   "cell_type": "code",
   "execution_count": 11,
   "metadata": {},
   "outputs": [
    {
     "name": "stdout",
     "output_type": "stream",
     "text": [
      "('image/tiff', None)\n",
      "(None, None)\n",
      "('image/tiff', None)\n",
      "('image/tiff', None)\n",
      "(None, None)\n",
      "('image/tiff', None)\n",
      "(None, None)\n",
      "('image/tiff', None)\n",
      "(None, None)\n",
      "(None, None)\n"
     ]
    }
   ],
   "source": [
    "import mimetypes\n",
    "import os\n",
    "from pathlib import Path\n",
    "path = Path(\"/home/sandro/Devspace/python/tesseract/data/transcript\")\n",
    "for img in path.glob(\"transcript.serif.exp*\"):\n",
    "    print(mimetypes.guess_type(img.name))\n",
    "    "
   ]
  },
  {
   "cell_type": "code",
   "execution_count": 1,
   "metadata": {},
   "outputs": [
    {
     "data": {
      "text/plain": [
       "'image/png'"
      ]
     },
     "execution_count": 1,
     "metadata": {},
     "output_type": "execute_result"
    }
   ],
   "source": [
    "import magic\n",
    "mime = magic.Magic(mime=True)\n",
    "mime.from_file(\"/home/sandro/Devspace/python/tesseract/data/transcript/transcript.serif.exp1.tif\")"
   ]
  },
  {
   "cell_type": "code",
   "execution_count": 8,
   "metadata": {},
   "outputs": [
    {
     "name": "stdout",
     "output_type": "stream",
     "text": [
      "transcript\n",
      "transcript.serif.exp5.box\n",
      "transcript.serif.exp1.box\n",
      "transcript.serif.exp2.box\n",
      "transcript.serif.exp3.box\n",
      "transcript.serif.exp4.box\n"
     ]
    }
   ],
   "source": [
    "from pathlib import Path\n",
    "\n",
    "path = Path(\"/home/sandro/Devspace/python/tesseract/data/transcript\")\n",
    "print(path.name)\n",
    "for img in path.glob(\"transcript.serif.exp*.box\"):\n",
    "    print(img.name)"
   ]
  },
  {
   "cell_type": "code",
   "execution_count": null,
   "metadata": {},
   "outputs": [],
   "source": []
  }
 ],
 "metadata": {
  "kernelspec": {
   "display_name": "Python 3",
   "language": "python",
   "name": "python3"
  },
  "language_info": {
   "codemirror_mode": {
    "name": "ipython",
    "version": 3
   },
   "file_extension": ".py",
   "mimetype": "text/x-python",
   "name": "python",
   "nbconvert_exporter": "python",
   "pygments_lexer": "ipython3",
   "version": "3.6.7"
  }
 },
 "nbformat": 4,
 "nbformat_minor": 2
}
